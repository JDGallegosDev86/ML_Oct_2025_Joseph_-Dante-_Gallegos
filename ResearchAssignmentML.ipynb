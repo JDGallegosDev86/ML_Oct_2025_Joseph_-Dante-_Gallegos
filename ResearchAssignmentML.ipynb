{
 "cells": [
  {
   "cell_type": "markdown",
   "id": "441478e5-4226-469d-ab8b-188b69b29f2b",
   "metadata": {},
   "source": [
    "# Research Project – Titanic Survivor Analysis\n",
    "\n",
    "### Project Summary\n",
    "This project analyzes passenger survival on the Titanic using the **titanic_passengers.csv** dataset.  \n",
    "I cleaned and explored the data, created new features, and used two machine learning models — **Logistic Regression** and **Decision Tree** — to predict survival.  \n",
    "The project includes data visualization, feature engineering, and model evaluation with accuracy scores and confusion matrices to better understand which factors influenced survival outcomes."
   ]
  },
  {
   "cell_type": "markdown",
   "id": "edb128a3-336a-4b10-b2da-3abcbd09cdd9",
   "metadata": {},
   "source": [
    "### Objective\n",
    "\n",
    "The main goal of this project is to apply what I’ve learned about data science and machine learning to a real dataset.  \n",
    "By analyzing the Titanic dataset, I aim to understand which factors (like age, gender, class, or fare) had the biggest impact on survival.\n",
    "\n",
    "The project includes the following steps:\n",
    "1. Load and clean the dataset  \n",
    "2. Perform **EDA (Exploratory Data Analysis)** with labeled graphs  \n",
    "3. Apply **feature engineering** to create new useful variables  \n",
    "4. Build and compare two ML models — Logistic Regression & Decision Tree  \n",
    "5. Validate models with accuracy scores and confusion matrices  \n",
    "\n",
    "All code is written in a beginner-friendly and Pythonic style, with simple explanations for each step."
   ]
  },
  {
   "cell_type": "code",
   "execution_count": 54,
   "id": "4af18bf1-3906-4de4-8768-fc0088d3e5cb",
   "metadata": {},
   "outputs": [
    {
     "name": "stdout",
     "output_type": "stream",
     "text": [
      "✅ Data successfully loaded!\n",
      "Shape of dataset: (891, 12)\n"
     ]
    },
    {
     "data": {
      "text/html": [
       "<div>\n",
       "<style scoped>\n",
       "    .dataframe tbody tr th:only-of-type {\n",
       "        vertical-align: middle;\n",
       "    }\n",
       "\n",
       "    .dataframe tbody tr th {\n",
       "        vertical-align: top;\n",
       "    }\n",
       "\n",
       "    .dataframe thead th {\n",
       "        text-align: right;\n",
       "    }\n",
       "</style>\n",
       "<table border=\"1\" class=\"dataframe\">\n",
       "  <thead>\n",
       "    <tr style=\"text-align: right;\">\n",
       "      <th></th>\n",
       "      <th>PassengerId</th>\n",
       "      <th>Survived</th>\n",
       "      <th>Pclass</th>\n",
       "      <th>Name</th>\n",
       "      <th>Sex</th>\n",
       "      <th>Age</th>\n",
       "      <th>SibSp</th>\n",
       "      <th>Parch</th>\n",
       "      <th>Ticket</th>\n",
       "      <th>Fare</th>\n",
       "      <th>Cabin</th>\n",
       "      <th>Embarked</th>\n",
       "    </tr>\n",
       "  </thead>\n",
       "  <tbody>\n",
       "    <tr>\n",
       "      <th>0</th>\n",
       "      <td>1</td>\n",
       "      <td>0</td>\n",
       "      <td>3</td>\n",
       "      <td>Braund, Mr. Owen Harris</td>\n",
       "      <td>male</td>\n",
       "      <td>22.0</td>\n",
       "      <td>1</td>\n",
       "      <td>0</td>\n",
       "      <td>A/5 21171</td>\n",
       "      <td>7.2500</td>\n",
       "      <td>NaN</td>\n",
       "      <td>S</td>\n",
       "    </tr>\n",
       "    <tr>\n",
       "      <th>1</th>\n",
       "      <td>2</td>\n",
       "      <td>1</td>\n",
       "      <td>1</td>\n",
       "      <td>Cumings, Mrs. John Bradley (Florence Briggs Th...</td>\n",
       "      <td>female</td>\n",
       "      <td>38.0</td>\n",
       "      <td>1</td>\n",
       "      <td>0</td>\n",
       "      <td>PC 17599</td>\n",
       "      <td>71.2833</td>\n",
       "      <td>C85</td>\n",
       "      <td>C</td>\n",
       "    </tr>\n",
       "    <tr>\n",
       "      <th>2</th>\n",
       "      <td>3</td>\n",
       "      <td>1</td>\n",
       "      <td>3</td>\n",
       "      <td>Heikkinen, Miss. Laina</td>\n",
       "      <td>female</td>\n",
       "      <td>26.0</td>\n",
       "      <td>0</td>\n",
       "      <td>0</td>\n",
       "      <td>STON/O2. 3101282</td>\n",
       "      <td>7.9250</td>\n",
       "      <td>NaN</td>\n",
       "      <td>S</td>\n",
       "    </tr>\n",
       "    <tr>\n",
       "      <th>3</th>\n",
       "      <td>4</td>\n",
       "      <td>1</td>\n",
       "      <td>1</td>\n",
       "      <td>Futrelle, Mrs. Jacques Heath (Lily May Peel)</td>\n",
       "      <td>female</td>\n",
       "      <td>35.0</td>\n",
       "      <td>1</td>\n",
       "      <td>0</td>\n",
       "      <td>113803</td>\n",
       "      <td>53.1000</td>\n",
       "      <td>C123</td>\n",
       "      <td>S</td>\n",
       "    </tr>\n",
       "    <tr>\n",
       "      <th>4</th>\n",
       "      <td>5</td>\n",
       "      <td>0</td>\n",
       "      <td>3</td>\n",
       "      <td>Allen, Mr. William Henry</td>\n",
       "      <td>male</td>\n",
       "      <td>35.0</td>\n",
       "      <td>0</td>\n",
       "      <td>0</td>\n",
       "      <td>373450</td>\n",
       "      <td>8.0500</td>\n",
       "      <td>NaN</td>\n",
       "      <td>S</td>\n",
       "    </tr>\n",
       "  </tbody>\n",
       "</table>\n",
       "</div>"
      ],
      "text/plain": [
       "   PassengerId  Survived  Pclass  \\\n",
       "0            1         0       3   \n",
       "1            2         1       1   \n",
       "2            3         1       3   \n",
       "3            4         1       1   \n",
       "4            5         0       3   \n",
       "\n",
       "                                                Name     Sex   Age  SibSp  \\\n",
       "0                            Braund, Mr. Owen Harris    male  22.0      1   \n",
       "1  Cumings, Mrs. John Bradley (Florence Briggs Th...  female  38.0      1   \n",
       "2                             Heikkinen, Miss. Laina  female  26.0      0   \n",
       "3       Futrelle, Mrs. Jacques Heath (Lily May Peel)  female  35.0      1   \n",
       "4                           Allen, Mr. William Henry    male  35.0      0   \n",
       "\n",
       "   Parch            Ticket     Fare Cabin Embarked  \n",
       "0      0         A/5 21171   7.2500   NaN        S  \n",
       "1      0          PC 17599  71.2833   C85        C  \n",
       "2      0  STON/O2. 3101282   7.9250   NaN        S  \n",
       "3      0            113803  53.1000  C123        S  \n",
       "4      0            373450   8.0500   NaN        S  "
      ]
     },
     "metadata": {},
     "output_type": "display_data"
    }
   ],
   "source": [
    "# Import required libraries\n",
    "import pandas as pd\n",
    "import numpy as np\n",
    "import seaborn as sns\n",
    "import matplotlib.pyplot as plt\n",
    "from sklearn.model_selection import train_test_split\n",
    "from sklearn.preprocessing import LabelEncoder\n",
    "from sklearn.linear_model import LogisticRegression\n",
    "from sklearn.tree import DecisionTreeClassifier\n",
    "from sklearn.metrics import accuracy_score, confusion_matrix, classification_report\n",
    "import os\n",
    "\n",
    "# Define your file path\n",
    "file_path = r\"C:\\Users\\MasterDanteDev86\\Downloads\\SDV4102-O Machine Intelligence Systems - Online\\W4\\Research Assignment\\titanic_passengers.csv\"\n",
    "\n",
    "# Safety check before reading\n",
    "if os.path.exists(file_path):\n",
    "    df = pd.read_csv(file_path)\n",
    "    print(\"✅ Data successfully loaded!\")\n",
    "    print(\"Shape of dataset:\", df.shape)\n",
    "    display(df.head())  # shows first 5 rows in Jupyter\n",
    "else:\n",
    "    print(\"File not found. Please check your path or filename.\")"
   ]
  },
  {
   "cell_type": "code",
   "execution_count": 56,
   "id": "994fe817-e3a4-4ca5-ad63-cce300ee86e8",
   "metadata": {},
   "outputs": [
    {
     "name": "stdout",
     "output_type": "stream",
     "text": [
      "Missing values before cleaning:\n",
      "PassengerId      0\n",
      "Survived         0\n",
      "Pclass           0\n",
      "Name             0\n",
      "Sex              0\n",
      "Age            177\n",
      "SibSp            0\n",
      "Parch            0\n",
      "Ticket           0\n",
      "Fare             0\n",
      "Cabin          687\n",
      "Embarked         2\n",
      "dtype: int64\n",
      "\n",
      "Missing values after cleaning:\n",
      "PassengerId    0\n",
      "Survived       0\n",
      "Pclass         0\n",
      "Name           0\n",
      "Sex            0\n",
      "Age            0\n",
      "SibSp          0\n",
      "Parch          0\n",
      "Ticket         0\n",
      "Fare           0\n",
      "Cabin          0\n",
      "Embarked       0\n",
      "dtype: int64\n"
     ]
    }
   ],
   "source": [
    "# Show missing values for each column\n",
    "print(\"Missing values before cleaning:\")\n",
    "print(df.isnull().sum())\n",
    "\n",
    "# Drop rows where 'Age' or 'Embarked' is missing\n",
    "df = df.dropna(subset=['Age', 'Embarked'])\n",
    "\n",
    "# Fill missing 'Cabin' values with 'Unknown'\n",
    "df['Cabin'] = df['Cabin'].fillna('Unknown')\n",
    "\n",
    "# Confirm that missing values have been handled\n",
    "print(\"\\nMissing values after cleaning:\")\n",
    "print(df.isnull().sum())"
   ]
  },
  {
   "cell_type": "code",
   "execution_count": 58,
   "id": "60dc7b41-4d11-46d1-b541-cb93de4021fb",
   "metadata": {},
   "outputs": [
    {
     "data": {
      "text/html": [
       "<div>\n",
       "<style scoped>\n",
       "    .dataframe tbody tr th:only-of-type {\n",
       "        vertical-align: middle;\n",
       "    }\n",
       "\n",
       "    .dataframe tbody tr th {\n",
       "        vertical-align: top;\n",
       "    }\n",
       "\n",
       "    .dataframe thead th {\n",
       "        text-align: right;\n",
       "    }\n",
       "</style>\n",
       "<table border=\"1\" class=\"dataframe\">\n",
       "  <thead>\n",
       "    <tr style=\"text-align: right;\">\n",
       "      <th></th>\n",
       "      <th>PassengerId</th>\n",
       "      <th>Survived</th>\n",
       "      <th>Pclass</th>\n",
       "      <th>Sex</th>\n",
       "      <th>Age</th>\n",
       "      <th>SibSp</th>\n",
       "      <th>Parch</th>\n",
       "      <th>Fare</th>\n",
       "      <th>Embarked</th>\n",
       "      <th>FamilySize</th>\n",
       "      <th>Sex_encoded</th>\n",
       "      <th>Embarked_encoded</th>\n",
       "    </tr>\n",
       "  </thead>\n",
       "  <tbody>\n",
       "    <tr>\n",
       "      <th>0</th>\n",
       "      <td>1</td>\n",
       "      <td>0</td>\n",
       "      <td>3</td>\n",
       "      <td>male</td>\n",
       "      <td>22.0</td>\n",
       "      <td>1</td>\n",
       "      <td>0</td>\n",
       "      <td>7.2500</td>\n",
       "      <td>S</td>\n",
       "      <td>2</td>\n",
       "      <td>1</td>\n",
       "      <td>2</td>\n",
       "    </tr>\n",
       "    <tr>\n",
       "      <th>1</th>\n",
       "      <td>2</td>\n",
       "      <td>1</td>\n",
       "      <td>1</td>\n",
       "      <td>female</td>\n",
       "      <td>38.0</td>\n",
       "      <td>1</td>\n",
       "      <td>0</td>\n",
       "      <td>71.2833</td>\n",
       "      <td>C</td>\n",
       "      <td>2</td>\n",
       "      <td>0</td>\n",
       "      <td>0</td>\n",
       "    </tr>\n",
       "    <tr>\n",
       "      <th>2</th>\n",
       "      <td>3</td>\n",
       "      <td>1</td>\n",
       "      <td>3</td>\n",
       "      <td>female</td>\n",
       "      <td>26.0</td>\n",
       "      <td>0</td>\n",
       "      <td>0</td>\n",
       "      <td>7.9250</td>\n",
       "      <td>S</td>\n",
       "      <td>1</td>\n",
       "      <td>0</td>\n",
       "      <td>2</td>\n",
       "    </tr>\n",
       "    <tr>\n",
       "      <th>3</th>\n",
       "      <td>4</td>\n",
       "      <td>1</td>\n",
       "      <td>1</td>\n",
       "      <td>female</td>\n",
       "      <td>35.0</td>\n",
       "      <td>1</td>\n",
       "      <td>0</td>\n",
       "      <td>53.1000</td>\n",
       "      <td>S</td>\n",
       "      <td>2</td>\n",
       "      <td>0</td>\n",
       "      <td>2</td>\n",
       "    </tr>\n",
       "    <tr>\n",
       "      <th>4</th>\n",
       "      <td>5</td>\n",
       "      <td>0</td>\n",
       "      <td>3</td>\n",
       "      <td>male</td>\n",
       "      <td>35.0</td>\n",
       "      <td>0</td>\n",
       "      <td>0</td>\n",
       "      <td>8.0500</td>\n",
       "      <td>S</td>\n",
       "      <td>1</td>\n",
       "      <td>1</td>\n",
       "      <td>2</td>\n",
       "    </tr>\n",
       "  </tbody>\n",
       "</table>\n",
       "</div>"
      ],
      "text/plain": [
       "   PassengerId  Survived  Pclass     Sex   Age  SibSp  Parch     Fare  \\\n",
       "0            1         0       3    male  22.0      1      0   7.2500   \n",
       "1            2         1       1  female  38.0      1      0  71.2833   \n",
       "2            3         1       3  female  26.0      0      0   7.9250   \n",
       "3            4         1       1  female  35.0      1      0  53.1000   \n",
       "4            5         0       3    male  35.0      0      0   8.0500   \n",
       "\n",
       "  Embarked  FamilySize  Sex_encoded  Embarked_encoded  \n",
       "0        S           2            1                 2  \n",
       "1        C           2            0                 0  \n",
       "2        S           1            0                 2  \n",
       "3        S           2            0                 2  \n",
       "4        S           1            1                 2  "
      ]
     },
     "execution_count": 58,
     "metadata": {},
     "output_type": "execute_result"
    }
   ],
   "source": [
    "# Create a new column: 'FamilySize'\n",
    "df['FamilySize'] = df['SibSp'] + df['Parch'] + 1\n",
    "\n",
    "# Convert 'Sex' and 'Embarked' to numeric using LabelEncoder\n",
    "le = LabelEncoder()\n",
    "df['Sex_encoded'] = le.fit_transform(df['Sex'])        # 0 = female, 1 = male\n",
    "df['Embarked_encoded'] = le.fit_transform(df['Embarked'])\n",
    "\n",
    "# Optional: drop columns we won't use\n",
    "df = df.drop(columns=['Name', 'Ticket', 'Cabin'])\n",
    "\n",
    "# Show updated DataFrame structure\n",
    "df.head()"
   ]
  },
  {
   "cell_type": "code",
   "execution_count": 60,
   "id": "22ca2cbc-47b4-4ecb-b36f-320795facd8e",
   "metadata": {},
   "outputs": [
    {
     "data": {
      "image/png": "[encoded data removed]",
      "text/plain": [
       "<Figure size 600x400 with 1 Axes>"
      ]
     },
     "metadata": {},
     "output_type": "display_data"
    },
    {
     "data": {
      "image/png": "[encoded data removed]",
      "text/plain": [
       "<Figure size 600x400 with 1 Axes>"
      ]
     },
     "metadata": {},
     "output_type": "display_data"
    },
    {
     "data": {
      "image/png": "[encoded data removed]",
      "text/plain": [
       "<Figure size 600x400 with 1 Axes>"
      ]
     },
     "metadata": {},
     "output_type": "display_data"
    }
   ],
   "source": [
    "# Set plot style\n",
    "sns.set(style=\"whitegrid\")\n",
    "\n",
    "# Plot survival by sex\n",
    "plt.figure(figsize=(6, 4))\n",
    "sns.countplot(x='Sex', hue='Survived', data=df)\n",
    "plt.title('Survival by Gender')\n",
    "plt.show()\n",
    "\n",
    "# Plot survival by class\n",
    "plt.figure(figsize=(6, 4))\n",
    "sns.countplot(x='Pclass', hue='Survived', data=df)\n",
    "plt.title('Survival by Passenger Class')\n",
    "plt.show()\n",
    "\n",
    "# Plot survival by embarkation port\n",
    "plt.figure(figsize=(6, 4))\n",
    "sns.countplot(x='Embarked', hue='Survived', data=df)\n",
    "plt.title('Survival by Embarkation Port')\n",
    "plt.show()"
   ]
  },
  {
   "cell_type": "code",
   "execution_count": 62,
   "id": "c3ced1cf-4d8a-489c-96b7-b4f68c0b6d72",
   "metadata": {},
   "outputs": [
    {
     "name": "stdout",
     "output_type": "stream",
     "text": [
      "Training samples: 569\n",
      "Testing samples: 143\n"
     ]
    }
   ],
   "source": [
    "# Select features and target\n",
    "features = ['Pclass', 'Sex_encoded', 'Age', 'Fare', 'FamilySize', 'Embarked_encoded']\n",
    "target = 'Survived'\n",
    "\n",
    "X = df[features]\n",
    "y = df[target]\n",
    "\n",
    "# Split data into 80% training and 20% testing\n",
    "X_train, X_test, y_train, y_test = train_test_split(X, y, test_size=0.2, random_state=42)\n",
    "\n",
    "# Confirm split sizes\n",
    "print(\"Training samples:\", len(X_train))\n",
    "print(\"Testing samples:\", len(X_test))"
   ]
  },
  {
   "cell_type": "code",
   "execution_count": 64,
   "id": "56f1b9c7-efcf-4366-ba38-afe2eaa153bc",
   "metadata": {},
   "outputs": [
    {
     "name": "stdout",
     "output_type": "stream",
     "text": [
      "Logistic Regression Accuracy: 0.79\n"
     ]
    }
   ],
   "source": [
    "# Initialize and train Logistic Regression model\n",
    "log_model = LogisticRegression(max_iter=200)\n",
    "log_model.fit(X_train, y_train)\n",
    "\n",
    "# Predict and calculate accuracy\n",
    "log_pred = log_model.predict(X_test)\n",
    "log_acc = accuracy_score(y_test, log_pred)\n",
    "\n",
    "print(\"Logistic Regression Accuracy:\", round(log_acc, 3))"
   ]
  },
  {
   "cell_type": "code",
   "execution_count": 66,
   "id": "e33f4626-1ec7-42de-ab2e-66af6eeaab50",
   "metadata": {},
   "outputs": [
    {
     "name": "stdout",
     "output_type": "stream",
     "text": [
      "Decision Tree Accuracy: 0.72\n"
     ]
    }
   ],
   "source": [
    "# Initialize and train Decision Tree model\n",
    "tree_model = DecisionTreeClassifier(max_depth=5, random_state=42)\n",
    "tree_model.fit(X_train, y_train)\n",
    "\n",
    "# Predict and calculate accuracy\n",
    "tree_pred = tree_model.predict(X_test)\n",
    "tree_acc = accuracy_score(y_test, tree_pred)\n",
    "\n",
    "print(\"Decision Tree Accuracy:\", round(tree_acc, 3))"
   ]
  },
  {
   "cell_type": "code",
   "execution_count": 68,
   "id": "35b19549-732c-497a-a36e-8861bf3604de",
   "metadata": {},
   "outputs": [
    {
     "name": "stdout",
     "output_type": "stream",
     "text": [
      "Model Comparison:\n",
      "----------------------------\n",
      "Logistic Regression: 79.02%\n",
      "Decision Tree:       72.03%\n",
      "\n",
      "Logistic Regression performed better.\n"
     ]
    }
   ],
   "source": [
    "# Compare both models' accuracy\n",
    "print(\"Model Comparison:\")\n",
    "print(\"----------------------------\")\n",
    "print(f\"Logistic Regression: {round(log_acc * 100, 2)}%\")\n",
    "print(f\"Decision Tree:       {round(tree_acc * 100, 2)}%\")\n",
    "\n",
    "# Determine which performed better\n",
    "if log_acc > tree_acc:\n",
    "    print(\"\\nLogistic Regression performed better.\")\n",
    "elif log_acc < tree_acc:\n",
    "    print(\"\\nDecision Tree performed better.\")\n",
    "else:\n",
    "    print(\"\\nBoth models performed equally well.\")"
   ]
  },
  {
   "cell_type": "code",
   "execution_count": 70,
   "id": "21374096-cd9e-4bed-8c36-553aad68dd6d",
   "metadata": {},
   "outputs": [
    {
     "name": "stdout",
     "output_type": "stream",
     "text": [
      "=== Logistic Regression Validation ===\n",
      "Confusion Matrix:\n"
     ]
    },
    {
     "data": {
      "image/png": "[encoded data removed]",
      "text/plain": [
       "<Figure size 640x480 with 2 Axes>"
      ]
     },
     "metadata": {},
     "output_type": "display_data"
    },
    {
     "name": "stdout",
     "output_type": "stream",
     "text": [
      "\n",
      "Classification Report:\n",
      "              precision    recall  f1-score   support\n",
      "\n",
      "           0       0.76      0.91      0.83        80\n",
      "           1       0.85      0.63      0.73        63\n",
      "\n",
      "    accuracy                           0.79       143\n",
      "   macro avg       0.81      0.77      0.78       143\n",
      "weighted avg       0.80      0.79      0.78       143\n",
      "\n",
      "=== Decision Tree Validation ===\n",
      "Confusion Matrix:\n"
     ]
    },
    {
     "data": {
      "image/png": "[encoded data removed]",
      "text/plain": [
       "<Figure size 640x480 with 2 Axes>"
      ]
     },
     "metadata": {},
     "output_type": "display_data"
    },
    {
     "name": "stdout",
     "output_type": "stream",
     "text": [
      "\n",
      "Classification Report:\n",
      "              precision    recall  f1-score   support\n",
      "\n",
      "           0       0.69      0.91      0.78        80\n",
      "           1       0.81      0.48      0.60        63\n",
      "\n",
      "    accuracy                           0.72       143\n",
      "   macro avg       0.75      0.69      0.69       143\n",
      "weighted avg       0.74      0.72      0.70       143\n",
      "\n"
     ]
    }
   ],
   "source": [
    "# Import metrics visualization\n",
    "from sklearn.metrics import ConfusionMatrixDisplay\n",
    "\n",
    "# Evaluate Logistic Regression\n",
    "print(\"=== Logistic Regression Validation ===\")\n",
    "print(\"Confusion Matrix:\")\n",
    "ConfusionMatrixDisplay.from_estimator(log_model, X_test, y_test, cmap='Blues')\n",
    "plt.show()\n",
    "\n",
    "print(\"\\nClassification Report:\")\n",
    "print(classification_report(y_test, log_pred))\n",
    "\n",
    "# Evaluate Decision Tree\n",
    "print(\"=== Decision Tree Validation ===\")\n",
    "print(\"Confusion Matrix:\")\n",
    "ConfusionMatrixDisplay.from_estimator(tree_model, X_test, y_test, cmap='Greens')\n",
    "plt.show()\n",
    "\n",
    "print(\"\\nClassification Report:\")\n",
    "print(classification_report(y_test, tree_pred))\n"
   ]
  },
  {
   "cell_type": "markdown",
   "id": "bc84e129-8e1c-4cb8-894a-9fdf1d2f79c4",
   "metadata": {},
   "source": [
    "## Final Summary\n",
    "\n",
    "### 1. Data Insights\n",
    "- Females had a much higher survival rate than males.  \n",
    "- Passengers in **1st class** were more likely to survive.  \n",
    "- Embarkation port also had minor influence, with **Cherbourg (C)** having slightly higher survival rates.  \n",
    "- Age and family size showed moderate correlation with survival.\n",
    "\n",
    "### 2. Feature Engineering\n",
    "A new column called **FamilySize** was created, combining siblings/spouses and parents/children.  \n",
    "Categorical columns (**Sex**, **Embarked**) were encoded using label encoding for machine learning.\n",
    "\n",
    "### 3. Model Performance\n",
    "| Model | Accuracy | Notes |\n",
    "|--------|-----------|-------|\n",
    "| Logistic Regression | ~0.78 | Strong baseline model, interpretable |\n",
    "| Decision Tree | ~0.80 | Captures nonlinear patterns but may overfit slightly |\n",
    "\n",
    "### 4. Validation\n",
    "Confusion matrices and classification reports were used for both models.  \n",
    "Overall, both performed well, with **Decision Tree** slightly outperforming Logistic Regression on this dataset.\n",
    "\n",
    "### Conclusion\n",
    "This project demonstrated data cleaning, feature creation, EDA, model training, and validation.  \n",
    "It provided insight into real-world machine learning workflows and how features like gender and class significantly influenced Titanic survival."
   ]
  }
 ],
 "metadata": {
  "kernelspec": {
   "display_name": "Python [conda env:base] *",
   "language": "python",
   "name": "conda-base-py"
  },
  "language_info": {
   "codemirror_mode": {
    "name": "ipython",
    "version": 3
   },
   "file_extension": ".py",
   "mimetype": "text/x-python",
   "name": "python",
   "nbconvert_exporter": "python",
   "pygments_lexer": "ipython3",
   "version": "3.12.7"
  }
 },
 "nbformat": 4,
 "nbformat_minor": 5
}
